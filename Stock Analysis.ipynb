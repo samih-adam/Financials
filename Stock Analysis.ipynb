{
 "cells": [
  {
   "cell_type": "code",
   "execution_count": 16,
   "metadata": {},
   "outputs": [],
   "source": [
    "from pandas_datareader import data\n",
    "import datetime"
   ]
  },
  {
   "cell_type": "code",
   "execution_count": 18,
   "metadata": {},
   "outputs": [
    {
     "name": "stdout",
     "output_type": "stream",
     "text": [
      "                  High         Low        Open       Close      Volume  \\\n",
      "Date                                                                     \n",
      "2020-03-02  301.440002  277.720001  282.279999  298.809998  85349300.0   \n",
      "2020-03-03  304.000000  285.799988  303.670013  289.320007  79868900.0   \n",
      "2020-03-04  303.399994  293.130005  296.440002  302.739990  54794600.0   \n",
      "2020-03-05  299.549988  291.410004  295.519989  292.920013  46893200.0   \n",
      "2020-03-06  290.820007  281.230011  282.000000  289.029999  56544200.0   \n",
      "...                ...         ...         ...         ...         ...   \n",
      "2020-06-18  353.450012  349.220001  351.410004  351.730011  24205100.0   \n",
      "2020-06-19  356.559998  345.149994  354.640015  349.720001  66119000.0   \n",
      "2020-06-22  359.459991  351.149994  351.339996  358.869995  33861300.0   \n",
      "2020-06-23  372.380005  362.269989  364.000000  366.529999  53038900.0   \n",
      "2020-06-24  368.790009  358.519989  365.000000  360.059998  48155800.0   \n",
      "\n",
      "             Adj Close  \n",
      "Date                    \n",
      "2020-03-02  298.003296  \n",
      "2020-03-03  288.538940  \n",
      "2020-03-04  301.922699  \n",
      "2020-03-05  292.129211  \n",
      "2020-03-06  288.249725  \n",
      "...                ...  \n",
      "2020-06-18  351.730011  \n",
      "2020-06-19  349.720001  \n",
      "2020-06-22  358.869995  \n",
      "2020-06-23  366.529999  \n",
      "2020-06-24  360.059998  \n",
      "\n",
      "[81 rows x 6 columns]\n"
     ]
    }
   ],
   "source": [
    "start=datetime.datetime(2020,3,1)\n",
    "end=datetime.datetime(2020,6,24)\n",
    "df= data.DataReader(name=\"AAPL\", data_source=\"yahoo\",start=start, end=end)\n",
    "print(df)\n"
   ]
  },
  {
   "cell_type": "code",
   "execution_count": null,
   "metadata": {},
   "outputs": [],
   "source": []
  },
  {
   "cell_type": "code",
   "execution_count": null,
   "metadata": {},
   "outputs": [],
   "source": []
  }
 ],
 "metadata": {
  "kernelspec": {
   "display_name": "Python 3",
   "language": "python",
   "name": "python3"
  },
  "language_info": {
   "codemirror_mode": {
    "name": "ipython",
    "version": 3
   },
   "file_extension": ".py",
   "mimetype": "text/x-python",
   "name": "python",
   "nbconvert_exporter": "python",
   "pygments_lexer": "ipython3",
   "version": "3.7.6"
  }
 },
 "nbformat": 4,
 "nbformat_minor": 4
}
